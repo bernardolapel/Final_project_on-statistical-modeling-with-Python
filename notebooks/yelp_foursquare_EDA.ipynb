{
 "cells": [
  {
   "cell_type": "code",
   "execution_count": null,
   "metadata": {},
   "outputs": [],
   "source": [
    "# imports\n",
    "import pandas as pd\n",
    "import requests"
   ]
  },
  {
   "attachments": {},
   "cell_type": "markdown",
   "metadata": {},
   "source": [
    "# Foursquare"
   ]
  },
  {
   "attachments": {},
   "cell_type": "markdown",
   "metadata": {},
   "source": [
    "Send a request to Foursquare with a small radius (1000m) for all the bike stations in your city of choice. "
   ]
  },
  {
   "cell_type": "code",
   "execution_count": null,
   "metadata": {},
   "outputs": [],
   "source": [
    "URL = \"https://api.foursquare.com/v3/places/search\"\n",
    "\n",
    "header_dict = {\n",
    "    \"Accept\": \"application/json\",\n",
    "    \"Authorization\": api_key_foursquare\n",
    "}\n",
    "a=[]\n",
    "b=[]\n",
    "c=[]\n",
    "d=[]\n",
    "e=[]\n",
    "for index, row in bike_chi.iterrows():\n",
    "    # Extract station coordinates\n",
    "    lat = row['lat']\n",
    "    lon = row['lon']\n",
    "    location = f\"{lat},{lon}\"\n",
    "\n",
    "    # Set parameters for Foursquare API request\n",
    "    params = {\n",
    "        \"query\": \"restaurant\",\n",
    "        \"ll\": location,\n",
    "        \"radius\": \"1000\"\n",
    "    }\n",
    "            \n",
    "    response = requests.request(\"GET\", URL, params=params, headers= header_dict)\n",
    "    res_json2 = response.json()\n",
    "    try:\n",
    "        for i in res_json2[\"results\"]:\n",
    "            a.append(i[\"name\"]) #this prints each of the dict\n",
    "            if \"address\" in i[\"location\"].keys():\n",
    "                b.append(i[\"location\"][\"address\"])\n",
    "            else:\n",
    "                b.append(None)\n",
    "            c.append(i[\"location\"][\"country\"])\n",
    "            d.append(i[\"location\"][\"region\"])\n",
    "            e.append(location)\n",
    "    except:\n",
    "        pass\n",
    "df = pd.DataFrame({\"name\": a, \"address\":b, \"country\":c, \"region\":d, 'coord':e})"
   ]
  },
  {
   "attachments": {},
   "cell_type": "markdown",
   "metadata": {},
   "source": [
    "Parse through the response to get the POI (such as restaurants, bars, etc) details you want (ratings, name, location, etc)"
   ]
  },
  {
   "cell_type": "code",
   "execution_count": null,
   "metadata": {},
   "outputs": [],
   "source": [
    "response1.json()"
   ]
  },
  {
   "attachments": {},
   "cell_type": "markdown",
   "metadata": {},
   "source": [
    "Put your parsed results into a DataFrame"
   ]
  },
  {
   "cell_type": "code",
   "execution_count": null,
   "metadata": {},
   "outputs": [],
   "source": [
    "df_restaurants = pd.json_normalize(restaurants, record_path='businesses')"
   ]
  },
  {
   "attachments": {},
   "cell_type": "markdown",
   "metadata": {},
   "source": [
    "# Yelp"
   ]
  },
  {
   "attachments": {},
   "cell_type": "markdown",
   "metadata": {},
   "source": [
    "Send a request to Yelp with a small radius (1000m) for all the bike stations in your city of choice. "
   ]
  },
  {
   "cell_type": "code",
   "execution_count": null,
   "metadata": {},
   "outputs": [],
   "source": [
    "\n",
    "url_y = \"https://api.yelp.com/v3/businesses/search?latitude=41.717059&longitude=-87.559986&term=%22restaurant%22&radius=40000&categories=bars&locale=en_US&price=4&open_now=false&sort_by=best_match&limit=20\"\n",
    "\n",
    "headers_y = {\n",
    "    \"accept\": \"application/json\",\n",
    "    \"Authorization\": \"Bearer api_key_yelp\n",
    "}\n",
    "\n",
    "response_y = requests.get(url, headers=headers_y)\n",
    "\n",
    "print(response_y.text)"
   ]
  },
  {
   "attachments": {},
   "cell_type": "markdown",
   "metadata": {},
   "source": [
    "Parse through the response to get the POI (such as restaurants, bars, etc) details you want (ratings, name, location, etc)"
   ]
  },
  {
   "cell_type": "code",
   "execution_count": null,
   "metadata": {},
   "outputs": [],
   "source": [
    "response_y.json()"
   ]
  },
  {
   "attachments": {},
   "cell_type": "markdown",
   "metadata": {},
   "source": [
    "Put your parsed results into a DataFrame"
   ]
  },
  {
   "attachments": {},
   "cell_type": "markdown",
   "metadata": {},
   "source": []
  },
  {
   "cell_type": "code",
   "execution_count": null,
   "metadata": {},
   "outputs": [],
   "source": [
    "restaurants_y = pd.json_normalize(respon, record_path='businesses')"
   ]
  },
  {
   "attachments": {},
   "cell_type": "markdown",
   "metadata": {},
   "source": [
    "# Comparing Results"
   ]
  },
  {
   "attachments": {},
   "cell_type": "markdown",
   "metadata": {},
   "source": [
    "Which API provided you with more complete data? Provide an explanation. "
   ]
  },
  {
   "attachments": {},
   "cell_type": "markdown",
   "metadata": {},
   "source": []
  },
  {
   "attachments": {},
   "cell_type": "markdown",
   "metadata": {},
   "source": [
    "Get the top 10 restaurants according to their rating"
   ]
  },
  {
   "cell_type": "code",
   "execution_count": null,
   "metadata": {},
   "outputs": [],
   "source": [
    "top_restaurants.sort_values(by='rating', ascending=False).head(10)\n",
    "name\trating\n",
    "0\tObelix\t4.5\n",
    "2\tIndienne\t4.5\n",
    "5\tThe Capital Grille\t4.5\n",
    "7\tSteak 48\t4.5\n",
    "13\tSushi Suite 202\t4.5\n",
    "9\tVie Restaurant\t4.5\n",
    "1\tThe Office\t4.5\n",
    "12\tRPM Steak\t4.0\n",
    "18\tBrindille\t4.0\n",
    "17\tArun's Thai Restaurant\t4.0"
   ]
  }
 ],
 "metadata": {
  "kernelspec": {
   "display_name": "Python 3",
   "language": "python",
   "name": "python3"
  },
  "language_info": {
   "codemirror_mode": {
    "name": "ipython",
    "version": 3
   },
   "file_extension": ".py",
   "mimetype": "text/x-python",
   "name": "python",
   "nbconvert_exporter": "python",
   "pygments_lexer": "ipython3",
   "version": "3.8.5"
  }
 },
 "nbformat": 4,
 "nbformat_minor": 4
}
