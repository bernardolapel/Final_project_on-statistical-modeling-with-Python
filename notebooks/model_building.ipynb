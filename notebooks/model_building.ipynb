{
 "cells": [
  {
   "attachments": {},
   "cell_type": "markdown",
   "metadata": {},
   "source": [
    "Build a regression model."
   ]
  },
  {
   "cell_type": "code",
   "execution_count": null,
   "metadata": {},
   "outputs": [],
   "source": [
    "import statsmodels.api as sm\n",
    "x = df_final[['poi']]\n",
    "y = df_final['num_bikes_available']\n",
    "x = sm.add_constant(x) # adding a constant\n",
    "lin_reg = sm.OLS(y,x['poi'])"
   ]
  },
  {
   "attachments": {},
   "cell_type": "markdown",
   "metadata": {},
   "source": [
    "Provide model output and an interpretation of the results. "
   ]
  },
  {
   "cell_type": "code",
   "execution_count": null,
   "metadata": {},
   "outputs": [],
   "source": [
    "model = lin_reg.fit()\n",
    "print_model = model.summary()\n",
    "print(print_model)\n",
    "# The R square shows that the independent variable-poi was able to predict the dependent variable-no of bike by 37%\n",
    "# The p value shows that the variable significance therefore where can reject the Null hypothesis\n",
    "  OLS Regression Results                                 \n",
    "========================================================================================\n",
    "Dep. Variable:     num_bikes_available   R-squared (uncentered):                   0.368\n",
    "Model:                             OLS   Adj. R-squared (uncentered):              0.368\n",
    "Method:                  Least Squares   F-statistic:                              944.2\n",
    "Date:                 Mon, 03 Jul 2023   Prob (F-statistic):                   9.75e-164\n",
    "Time:                         22:48:16   Log-Likelihood:                         -4599.4\n",
    "No. Observations:                 1620   AIC:                                      9201.\n",
    "Df Residuals:                     1619   BIC:                                      9206.\n",
    "Df Model:                            1                                                  \n",
    "Covariance Type:             nonrobust                                                  \n",
    "==============================================================================\n",
    "                 coef    std err          t      P>|t|      [0.025      0.975]\n",
    "------------------------------------------------------------------------------\n",
    "poi            0.3355      0.011     30.728      0.000       0.314       0.357"
   ]
  },
  {
   "attachments": {},
   "cell_type": "markdown",
   "metadata": {},
   "source": [
    "# Stretch"
   ]
  },
  {
   "attachments": {},
   "cell_type": "markdown",
   "metadata": {},
   "source": [
    "How can you turn the regression model into a classification model?"
   ]
  },
  {
   "cell_type": "code",
   "execution_count": null,
   "metadata": {},
   "outputs": [],
   "source": [
    "# I can turn the regression model into a classification is apply a binary variable \n",
    "# such as station status as the target variable:\n",
    "#active            14816\n",
    "#out_of_service       20\n",
    "#Name: station_status, dtype: int64"
   ]
  }
 ],
 "metadata": {
  "kernelspec": {
   "display_name": "Python 3",
   "language": "python",
   "name": "python3"
  },
  "language_info": {
   "codemirror_mode": {
    "name": "ipython",
    "version": 3
   },
   "file_extension": ".py",
   "mimetype": "text/x-python",
   "name": "python",
   "nbconvert_exporter": "python",
   "pygments_lexer": "ipython3",
   "version": "3.8.5"
  }
 },
 "nbformat": 4,
 "nbformat_minor": 4
}
